{
 "cells": [
  {
   "cell_type": "code",
   "execution_count": 1,
   "outputs": [
    {
     "data": {
      "text/plain": "'\\n\\n截取所有条件的epoch，然后进行清洗。\\n\\n截取的长度不一样，RSA和ASSR要分开处理\\n\\n\\n\\n所有epoch ，然后再来考虑 evoked\\n\\n\\nRSA 实验\\n\\n刺激\\t恒定duration\\tmark\\nba1.wav\\t1\\t101\\nba2.wav\\t1\\t102\\nba3.wav\\t1\\t103\\nba4.wav\\t1\\t104\\nda1.wav\\t1\\t111\\nda2.wav\\t1\\t112\\nda3.wav\\t1\\t113\\nda4.wav\\t1\\t114\\npa1.wav\\t1\\t121\\npa2.wav\\t1\\t122\\npa3.wav\\t1\\t123\\npa4.wav\\t1\\t124\\nta1.wav\\t1\\t131\\nta2.wav\\t1\\t132\\nta3.wav\\t1\\t133\\nta4.wav\\t1\\t134\\n\\n\\n\\nASSR 实验\\n\\n4_18s.wav\\t4\\t4\\t21.7\\n6_18s.wav\\t6\\t6\\t21.7\\n\\n'"
     },
     "execution_count": 1,
     "metadata": {},
     "output_type": "execute_result"
    }
   ],
   "source": [
    "'''\n",
    "\n",
    "截取所有条件的epoch，然后进行清洗。\n",
    "\n",
    "截取的长度不一样，RSA和ASSR要分开处理\n",
    "\n",
    "\n",
    "\n",
    "所有epoch ，然后再来考虑 evoked\n",
    "\n",
    "\n",
    "RSA 实验\n",
    "\n",
    "刺激\t恒定duration\tmark\n",
    "ba1.wav\t1\t101\n",
    "ba2.wav\t1\t102\n",
    "ba3.wav\t1\t103\n",
    "ba4.wav\t1\t104\n",
    "da1.wav\t1\t111\n",
    "da2.wav\t1\t112\n",
    "da3.wav\t1\t113\n",
    "da4.wav\t1\t114\n",
    "pa1.wav\t1\t121\n",
    "pa2.wav\t1\t122\n",
    "pa3.wav\t1\t123\n",
    "pa4.wav\t1\t124\n",
    "ta1.wav\t1\t131\n",
    "ta2.wav\t1\t132\n",
    "ta3.wav\t1\t133\n",
    "ta4.wav\t1\t134\n",
    "\n",
    "\n",
    "\n",
    "ASSR 实验\n",
    "\n",
    "4_18s.wav\t4\t4\t21.7\n",
    "6_18s.wav\t6\t6\t21.7\n",
    "\n",
    "'''\n"
   ],
   "metadata": {
    "collapsed": false,
    "ExecuteTime": {
     "start_time": "2023-05-11T00:45:03.092539Z",
     "end_time": "2023-05-11T00:45:03.108159Z"
    }
   }
  },
  {
   "cell_type": "code",
   "execution_count": 1,
   "outputs": [],
   "source": [
    "import mne\n",
    "import os.path as op\n",
    "import mne\n",
    "from mne.preprocessing import ICA\n",
    "import matplotlib.pyplot as plt\n",
    "from copy import deepcopy\n",
    "import numpy as np\n",
    "from autoreject import AutoReject"
   ],
   "metadata": {
    "collapsed": false,
    "pycharm": {
     "is_executing": true
    },
    "ExecuteTime": {
     "end_time": "2023-05-11T05:17:10.411415700Z",
     "start_time": "2023-05-11T05:17:08.080365Z"
    }
   }
  },
  {
   "cell_type": "code",
   "execution_count": 2,
   "outputs": [
    {
     "name": "stdout",
     "output_type": "stream",
     "text": [
      "Opening raw data file .\\data\\4raw_ica\\pre4010_y.fif...\n"
     ]
    },
    {
     "name": "stderr",
     "output_type": "stream",
     "text": [
      "C:\\Users\\SilverBullet\\AppData\\Local\\Temp\\ipykernel_23680\\3568311304.py:13: RuntimeWarning: This filename (.\\data\\4raw_ica\\pre4010_y.fif) does not conform to MNE naming conventions. All raw files should end with raw.fif, raw_sss.fif, raw_tsss.fif, _meg.fif, _eeg.fif, _ieeg.fif, raw.fif.gz, raw_sss.fif.gz, raw_tsss.fif.gz, _meg.fif.gz, _eeg.fif.gz or _ieeg.fif.gz\n",
      "  reconst_raw=mne.io.read_raw_fif(save_path_ica + sub_id + '.fif')\n"
     ]
    },
    {
     "name": "stdout",
     "output_type": "stream",
     "text": [
      "    Range : 0 ... 4895499 =      0.000 ...  4895.499 secs\n",
      "Ready.\n"
     ]
    }
   ],
   "source": [
    "\n",
    "\n",
    "sub_ids = [\n",
    "            'pre4010_y'\n",
    "          ]\n",
    "\n",
    "\n",
    "\n",
    "#for sub_id,i in zip(sub_ids,range(len(sub_ids))):\n",
    "    #读入之前处理好的reconst_raw\n",
    "\n",
    "sub_id = sub_ids[0]\n",
    "i = 0\n",
    "save_path_ica = '.\\data\\\\4raw_ica\\\\'\n",
    "reconst_raw=mne.io.read_raw_fif(save_path_ica + sub_id + '.fif')"
   ],
   "metadata": {
    "collapsed": false,
    "pycharm": {
     "is_executing": true
    },
    "ExecuteTime": {
     "end_time": "2023-05-11T05:17:27.355941900Z",
     "start_time": "2023-05-11T05:17:12.668690300Z"
    }
   }
  },
  {
   "cell_type": "code",
   "execution_count": 3,
   "outputs": [
    {
     "name": "stdout",
     "output_type": "stream",
     "text": [
      "Used Annotations descriptions: ['101', '102', '103', '104', '111', '112', '113', '114', '121', '122', '123', '124', '131', '132', '133', '134', '200', '201', '210', '211', '255', '30', '4']\n"
     ]
    }
   ],
   "source": [
    "events_1 = mne.events_from_annotations(reconst_raw)"
   ],
   "metadata": {
    "collapsed": false,
    "pycharm": {
     "is_executing": true
    },
    "ExecuteTime": {
     "end_time": "2023-05-11T05:17:27.388678700Z",
     "start_time": "2023-05-11T05:17:27.358934Z"
    }
   }
  },
  {
   "cell_type": "code",
   "execution_count": null,
   "outputs": [],
   "source": [
    "\n",
    "target_events_RSA = {\n",
    "                            '101':101,\n",
    "                            '102':102,\n",
    "                            '103':103,\n",
    "                            '104':104,\n",
    "                            '111':111,\n",
    "                            '112':112,\n",
    "                            '113':113,\n",
    "                            '114':114,\n",
    "                            '121':121,\n",
    "                            '122':122,\n",
    "                            '123':123,\n",
    "                            '124':124,\n",
    "                            '131':131,\n",
    "                            '132':132,\n",
    "                            '133':133,\n",
    "                            '134':134,\n",
    "\n",
    "                     }\n",
    "\n",
    "#先找events，epoch和average都是一步的事情。\n",
    "custom_mapping = target_events_RSA\n",
    "#\n",
    "(events_from_annot,\n",
    " event_dict) = mne.events_from_annotations(reconst_raw, event_id=custom_mapping)\n",
    "#还不如直接对 events_from_annot 进行切片\n",
    "#先遍历，把合适的单词筛序出来\n",
    "#对应的vocabulary已经列出，然后怎么提取呢？\n",
    "events_RSA = events_from_annot\n",
    "count_remembered_events = len(events_RSA)\n",
    "# 导入MATLAB发现event数量多于epoch数量,你怀疑是重合?\n",
    "epochs_RSA = mne.Epochs(reconst_raw, events_RSA, event_id=event_dict, baseline =(-0.2,0),tmin=-0.2, tmax=0.8, preload=True, event_repeated='drop')\n",
    "\n",
    "from mne.export import export_epochs\n",
    "file_path_save = 'L:\\yanglab1_EEG\\RSA\\data\\\\6epoch_clean_RSA\\\\'\n",
    "export_epochs(file_path_save + sub_ids[0]+\".set\", epochs=epochs_RSA, fmt = 'eeglab', overwrite = True)\n",
    "#查看所有mark dict\n",
    "#events_1 = mne.events_from_annotations(reconst_raw)"
   ],
   "metadata": {
    "collapsed": false,
    "pycharm": {
     "is_executing": true
    }
   }
  },
  {
   "cell_type": "code",
   "execution_count": null,
   "outputs": [],
   "source": [
    "'''\n",
    "\n",
    "'''\n",
    "save_path_epoch = '.\\data\\\\5epoch_RSA\\\\'\n",
    "epochs_RSA.save(save_path_epoch + sub_id + '-epo.fif', overwrite=True)\n"
   ],
   "metadata": {
    "collapsed": false,
    "pycharm": {
     "is_executing": true
    }
   }
  },
  {
   "cell_type": "code",
   "execution_count": null,
   "outputs": [],
   "source": [
    "    #用autoreject处理一下\n",
    "n_interpolates = np.array([1, 4, 32])\n",
    "consensus_percs = np.linspace(0, 0.8, 11)\n",
    "picks = mne.pick_types(epochs_RSA.info, meg=False, eeg=True, stim=False, eog=False,\n",
    "                       include=[], exclude=[])\n",
    "ar_RSA = AutoReject(n_interpolates,consensus_percs,picks=picks,\n",
    "                thresh_method='random_search',random_state=23)\n",
    "ar_RSA.fit(epochs_RSA)\n",
    "epochs_clean_RSA = ar_RSA.transform(epochs_RSA)\n"
   ],
   "metadata": {
    "collapsed": false,
    "pycharm": {
     "is_executing": true
    }
   }
  },
  {
   "cell_type": "code",
   "execution_count": null,
   "outputs": [],
   "source": [
    "'''\n",
    "不拆了，全放到一起\n",
    "'''\n",
    "evoked_original_RSA = list()\n",
    "evoked_clean_RSA = list()"
   ],
   "metadata": {
    "collapsed": false,
    "pycharm": {
     "is_executing": true
    }
   }
  },
  {
   "cell_type": "code",
   "execution_count": null,
   "outputs": [],
   "source": [
    "#先average看下结果，对比\n",
    "#如果结果不错就可以分别保存下来。\n",
    "evoked_original_RSA.append(epochs_RSA.average())#没有autoreject的\n",
    "evoked_clean_RSA.append(epochs_clean_RSA.average())\n",
    "\"\"\"\n",
    "查看效果，看是否需要回去删除电极\n",
    "\"\"\"\n",
    "%matplotlib qt\n",
    "\n",
    "fig_original = evoked_original_RSA[i].plot(window_title = sub_id)\n",
    "fig_clean = evoked_clean_RSA[i].plot(window_title = sub_id)"
   ],
   "metadata": {
    "collapsed": false,
    "pycharm": {
     "is_executing": true
    }
   }
  },
  {
   "cell_type": "code",
   "execution_count": null,
   "outputs": [],
   "source": [
    "#保存\n",
    "\n",
    "save_path_epoch_clean = '.\\data\\\\6epoch_clean_RSA\\\\'\n",
    "epochs_clean_RSA.save(save_path_epoch_clean + sub_id + '_RSA-epo.fif', overwrite=True)\n",
    "save_path_evoked = '.\\data\\\\7evoked_RSA\\\\'\n",
    "#为什么这里加i?因为是list，epochs不是list\n",
    "evoked_clean_RSA[i].save(save_path_evoked + sub_id + '_RSA-ave.fif',overwrite=True)\n"
   ],
   "metadata": {
    "collapsed": false,
    "pycharm": {
     "is_executing": true
    }
   }
  },
  {
   "cell_type": "code",
   "execution_count": null,
   "outputs": [],
   "source": [
    "\"\"\"\n",
    "查看效果\n",
    "\"\"\"\n",
    "%matplotlib qt\n",
    "\n",
    "fig_original = evoked_original_RSA[i].plot(window_title = sub_id)\n",
    "fig_original.savefig(save_path_evoked+'_original_' + sub_id)\n",
    "fig_clean = evoked_clean_RSA[i].plot(window_title = sub_id)\n",
    "fig_clean.savefig(save_path_evoked+'_clean_'+ sub_id)\n",
    "\n",
    "# fig_original = evoked_original_RSA_30Hz[i].plot(window_title = sub_id)\n",
    "# fig_original.savefig(save_path_evoked+'_original_' + sub_id)\n",
    "# fig_clean = evoked_clean_RSA_30Hz[i].plot(window_title = sub_id)\n",
    "# fig_clean.savefig(save_path_evoked+'_clean_'+ sub_id)\n"
   ],
   "metadata": {
    "collapsed": false,
    "ExecuteTime": {
     "start_time": "2023-05-10T23:02:42.265702Z",
     "end_time": "2023-05-10T23:02:43.093991Z"
    },
    "pycharm": {
     "is_executing": true
    }
   }
  },
  {
   "cell_type": "code",
   "execution_count": null,
   "outputs": [],
   "source": [
    "epochs_clean_RSA.plot(n_channels = 50, scalings=60e-6,)"
   ],
   "metadata": {
    "collapsed": false,
    "pycharm": {
     "is_executing": true
    }
   }
  }
 ],
 "metadata": {
  "kernelspec": {
   "name": "mne",
   "language": "python",
   "display_name": "'Python(mne)'"
  },
  "language_info": {
   "codemirror_mode": {
    "name": "ipython",
    "version": 2
   },
   "file_extension": ".py",
   "mimetype": "text/x-python",
   "name": "python",
   "nbconvert_exporter": "python",
   "pygments_lexer": "ipython2",
   "version": "2.7.6"
  }
 },
 "nbformat": 4,
 "nbformat_minor": 0
}
